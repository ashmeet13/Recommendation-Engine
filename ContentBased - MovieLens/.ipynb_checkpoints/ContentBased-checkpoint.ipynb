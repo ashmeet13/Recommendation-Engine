{
 "cells": [
  {
   "cell_type": "markdown",
   "metadata": {},
   "source": [
    "# Content Based Recommendation System"
   ]
  },
  {
   "cell_type": "markdown",
   "metadata": {},
   "source": [
    "### 1. Using -Users- data as content and finding similar user's\n",
    "### 2. Using -Users- movie based data as content and finding similar movie's"
   ]
  },
  {
   "cell_type": "code",
   "execution_count": 1,
   "metadata": {},
   "outputs": [],
   "source": [
    "import pandas as pd\n",
    "import numpy as np\n",
    "import math\n",
    "import os"
   ]
  },
  {
   "cell_type": "code",
   "execution_count": 2,
   "metadata": {},
   "outputs": [],
   "source": [
    "def edit_userData(users):\n",
    "        gender = {'M': 0,'F': 1}\n",
    "        jobs = {'student':0,'other':1,'educator':2,\n",
    "                'administrator':3,'engineer':4,'programmer':5,\n",
    "                'librarian':6,'writer':7,'executive':8,'scientist':9,\n",
    "                'artist':10,'technician':11,'marketing':12,'entertainment':13,\n",
    "                'healthcare':14,'retired':15,'lawyer':16,'salesman':17,\n",
    "                'none':18,'homemaker':19,'doctor':20}\n",
    "        users.Sex = [gender[item] for item in users.Sex]\n",
    "        users.Occupation = [jobs[item] for item in users.Occupation]\n",
    "        return users\n",
    "\n",
    "def describeDataframes(root):\n",
    "    u_cols = ['User ID', 'Age', 'Sex', 'Occupation', 'Zip Code']\n",
    "    r_cols = ['User ID', 'Movie ID', 'Rating', 'Unix Timestamp']\n",
    "    i_cols = ['Movie ID', 'Movie Title' ,'Release Date','Video Release Date', 'IMDB URL', 'Unknown', 'Action', 'Adventure',\n",
    "        'Animation', 'Childrens', 'Comedy', 'Crime', 'Documentary', 'Drama', 'Fantasy',\n",
    "        'Film-Noir', 'Horror', 'Musical', 'Mystery', 'Romance', 'Sci-Fi', 'Thriller', 'War', 'Western']\n",
    "\n",
    "    userPath = os.path.join(root,'u.user')\n",
    "    ratingPath = os.path.join(root,'u.data')\n",
    "    itemsPath = os.path.join(root,'u.item')\n",
    "\n",
    "    users = pd.read_csv(userPath, sep='|', names=u_cols, encoding='latin-1')\n",
    "    ratings = pd.read_csv(ratingPath, sep='\\t', names=r_cols, encoding='latin-1')\n",
    "    items = pd.read_csv(itemsPath, sep='|', names=i_cols, encoding='latin-1')\n",
    "\n",
    "    users = edit_userData(users)\n",
    "    return users,ratings,items"
   ]
  },
  {
   "cell_type": "code",
   "execution_count": 3,
   "metadata": {},
   "outputs": [],
   "source": [
    "user_df,rating_df,movie_df = describeDataframes('root')"
   ]
  },
  {
   "cell_type": "code",
   "execution_count": 4,
   "metadata": {},
   "outputs": [
    {
     "data": {
      "text/html": [
       "<div>\n",
       "<style scoped>\n",
       "    .dataframe tbody tr th:only-of-type {\n",
       "        vertical-align: middle;\n",
       "    }\n",
       "\n",
       "    .dataframe tbody tr th {\n",
       "        vertical-align: top;\n",
       "    }\n",
       "\n",
       "    .dataframe thead th {\n",
       "        text-align: right;\n",
       "    }\n",
       "</style>\n",
       "<table border=\"1\" class=\"dataframe\">\n",
       "  <thead>\n",
       "    <tr style=\"text-align: right;\">\n",
       "      <th></th>\n",
       "      <th>User ID</th>\n",
       "      <th>Age</th>\n",
       "      <th>Sex</th>\n",
       "      <th>Occupation</th>\n",
       "      <th>Zip Code</th>\n",
       "    </tr>\n",
       "  </thead>\n",
       "  <tbody>\n",
       "    <tr>\n",
       "      <th>0</th>\n",
       "      <td>1</td>\n",
       "      <td>24</td>\n",
       "      <td>0</td>\n",
       "      <td>11</td>\n",
       "      <td>85711</td>\n",
       "    </tr>\n",
       "    <tr>\n",
       "      <th>1</th>\n",
       "      <td>2</td>\n",
       "      <td>53</td>\n",
       "      <td>1</td>\n",
       "      <td>1</td>\n",
       "      <td>94043</td>\n",
       "    </tr>\n",
       "    <tr>\n",
       "      <th>2</th>\n",
       "      <td>3</td>\n",
       "      <td>23</td>\n",
       "      <td>0</td>\n",
       "      <td>7</td>\n",
       "      <td>32067</td>\n",
       "    </tr>\n",
       "    <tr>\n",
       "      <th>3</th>\n",
       "      <td>4</td>\n",
       "      <td>24</td>\n",
       "      <td>0</td>\n",
       "      <td>11</td>\n",
       "      <td>43537</td>\n",
       "    </tr>\n",
       "    <tr>\n",
       "      <th>4</th>\n",
       "      <td>5</td>\n",
       "      <td>33</td>\n",
       "      <td>1</td>\n",
       "      <td>1</td>\n",
       "      <td>15213</td>\n",
       "    </tr>\n",
       "  </tbody>\n",
       "</table>\n",
       "</div>"
      ],
      "text/plain": [
       "   User ID  Age  Sex  Occupation Zip Code\n",
       "0        1   24    0          11    85711\n",
       "1        2   53    1           1    94043\n",
       "2        3   23    0           7    32067\n",
       "3        4   24    0          11    43537\n",
       "4        5   33    1           1    15213"
      ]
     },
     "execution_count": 4,
     "metadata": {},
     "output_type": "execute_result"
    }
   ],
   "source": [
    "user_df.head()"
   ]
  },
  {
   "cell_type": "code",
   "execution_count": 5,
   "metadata": {},
   "outputs": [
    {
     "data": {
      "text/html": [
       "<div>\n",
       "<style scoped>\n",
       "    .dataframe tbody tr th:only-of-type {\n",
       "        vertical-align: middle;\n",
       "    }\n",
       "\n",
       "    .dataframe tbody tr th {\n",
       "        vertical-align: top;\n",
       "    }\n",
       "\n",
       "    .dataframe thead th {\n",
       "        text-align: right;\n",
       "    }\n",
       "</style>\n",
       "<table border=\"1\" class=\"dataframe\">\n",
       "  <thead>\n",
       "    <tr style=\"text-align: right;\">\n",
       "      <th></th>\n",
       "      <th>User ID</th>\n",
       "      <th>Movie ID</th>\n",
       "      <th>Rating</th>\n",
       "      <th>Unix Timestamp</th>\n",
       "    </tr>\n",
       "  </thead>\n",
       "  <tbody>\n",
       "    <tr>\n",
       "      <th>0</th>\n",
       "      <td>196</td>\n",
       "      <td>242</td>\n",
       "      <td>3</td>\n",
       "      <td>881250949</td>\n",
       "    </tr>\n",
       "    <tr>\n",
       "      <th>1</th>\n",
       "      <td>186</td>\n",
       "      <td>302</td>\n",
       "      <td>3</td>\n",
       "      <td>891717742</td>\n",
       "    </tr>\n",
       "    <tr>\n",
       "      <th>2</th>\n",
       "      <td>22</td>\n",
       "      <td>377</td>\n",
       "      <td>1</td>\n",
       "      <td>878887116</td>\n",
       "    </tr>\n",
       "    <tr>\n",
       "      <th>3</th>\n",
       "      <td>244</td>\n",
       "      <td>51</td>\n",
       "      <td>2</td>\n",
       "      <td>880606923</td>\n",
       "    </tr>\n",
       "    <tr>\n",
       "      <th>4</th>\n",
       "      <td>166</td>\n",
       "      <td>346</td>\n",
       "      <td>1</td>\n",
       "      <td>886397596</td>\n",
       "    </tr>\n",
       "  </tbody>\n",
       "</table>\n",
       "</div>"
      ],
      "text/plain": [
       "   User ID  Movie ID  Rating  Unix Timestamp\n",
       "0      196       242       3       881250949\n",
       "1      186       302       3       891717742\n",
       "2       22       377       1       878887116\n",
       "3      244        51       2       880606923\n",
       "4      166       346       1       886397596"
      ]
     },
     "execution_count": 5,
     "metadata": {},
     "output_type": "execute_result"
    }
   ],
   "source": [
    "rating_df.head()"
   ]
  },
  {
   "cell_type": "code",
   "execution_count": 6,
   "metadata": {},
   "outputs": [
    {
     "data": {
      "text/html": [
       "<div>\n",
       "<style scoped>\n",
       "    .dataframe tbody tr th:only-of-type {\n",
       "        vertical-align: middle;\n",
       "    }\n",
       "\n",
       "    .dataframe tbody tr th {\n",
       "        vertical-align: top;\n",
       "    }\n",
       "\n",
       "    .dataframe thead th {\n",
       "        text-align: right;\n",
       "    }\n",
       "</style>\n",
       "<table border=\"1\" class=\"dataframe\">\n",
       "  <thead>\n",
       "    <tr style=\"text-align: right;\">\n",
       "      <th></th>\n",
       "      <th>Movie ID</th>\n",
       "      <th>Movie Title</th>\n",
       "      <th>Release Date</th>\n",
       "      <th>Video Release Date</th>\n",
       "      <th>IMDB URL</th>\n",
       "      <th>Unknown</th>\n",
       "      <th>Action</th>\n",
       "      <th>Adventure</th>\n",
       "      <th>Animation</th>\n",
       "      <th>Childrens</th>\n",
       "      <th>...</th>\n",
       "      <th>Fantasy</th>\n",
       "      <th>Film-Noir</th>\n",
       "      <th>Horror</th>\n",
       "      <th>Musical</th>\n",
       "      <th>Mystery</th>\n",
       "      <th>Romance</th>\n",
       "      <th>Sci-Fi</th>\n",
       "      <th>Thriller</th>\n",
       "      <th>War</th>\n",
       "      <th>Western</th>\n",
       "    </tr>\n",
       "  </thead>\n",
       "  <tbody>\n",
       "    <tr>\n",
       "      <th>0</th>\n",
       "      <td>1</td>\n",
       "      <td>Toy Story (1995)</td>\n",
       "      <td>01-Jan-1995</td>\n",
       "      <td>NaN</td>\n",
       "      <td>http://us.imdb.com/M/title-exact?Toy%20Story%2...</td>\n",
       "      <td>0</td>\n",
       "      <td>0</td>\n",
       "      <td>0</td>\n",
       "      <td>1</td>\n",
       "      <td>1</td>\n",
       "      <td>...</td>\n",
       "      <td>0</td>\n",
       "      <td>0</td>\n",
       "      <td>0</td>\n",
       "      <td>0</td>\n",
       "      <td>0</td>\n",
       "      <td>0</td>\n",
       "      <td>0</td>\n",
       "      <td>0</td>\n",
       "      <td>0</td>\n",
       "      <td>0</td>\n",
       "    </tr>\n",
       "    <tr>\n",
       "      <th>1</th>\n",
       "      <td>2</td>\n",
       "      <td>GoldenEye (1995)</td>\n",
       "      <td>01-Jan-1995</td>\n",
       "      <td>NaN</td>\n",
       "      <td>http://us.imdb.com/M/title-exact?GoldenEye%20(...</td>\n",
       "      <td>0</td>\n",
       "      <td>1</td>\n",
       "      <td>1</td>\n",
       "      <td>0</td>\n",
       "      <td>0</td>\n",
       "      <td>...</td>\n",
       "      <td>0</td>\n",
       "      <td>0</td>\n",
       "      <td>0</td>\n",
       "      <td>0</td>\n",
       "      <td>0</td>\n",
       "      <td>0</td>\n",
       "      <td>0</td>\n",
       "      <td>1</td>\n",
       "      <td>0</td>\n",
       "      <td>0</td>\n",
       "    </tr>\n",
       "    <tr>\n",
       "      <th>2</th>\n",
       "      <td>3</td>\n",
       "      <td>Four Rooms (1995)</td>\n",
       "      <td>01-Jan-1995</td>\n",
       "      <td>NaN</td>\n",
       "      <td>http://us.imdb.com/M/title-exact?Four%20Rooms%...</td>\n",
       "      <td>0</td>\n",
       "      <td>0</td>\n",
       "      <td>0</td>\n",
       "      <td>0</td>\n",
       "      <td>0</td>\n",
       "      <td>...</td>\n",
       "      <td>0</td>\n",
       "      <td>0</td>\n",
       "      <td>0</td>\n",
       "      <td>0</td>\n",
       "      <td>0</td>\n",
       "      <td>0</td>\n",
       "      <td>0</td>\n",
       "      <td>1</td>\n",
       "      <td>0</td>\n",
       "      <td>0</td>\n",
       "    </tr>\n",
       "    <tr>\n",
       "      <th>3</th>\n",
       "      <td>4</td>\n",
       "      <td>Get Shorty (1995)</td>\n",
       "      <td>01-Jan-1995</td>\n",
       "      <td>NaN</td>\n",
       "      <td>http://us.imdb.com/M/title-exact?Get%20Shorty%...</td>\n",
       "      <td>0</td>\n",
       "      <td>1</td>\n",
       "      <td>0</td>\n",
       "      <td>0</td>\n",
       "      <td>0</td>\n",
       "      <td>...</td>\n",
       "      <td>0</td>\n",
       "      <td>0</td>\n",
       "      <td>0</td>\n",
       "      <td>0</td>\n",
       "      <td>0</td>\n",
       "      <td>0</td>\n",
       "      <td>0</td>\n",
       "      <td>0</td>\n",
       "      <td>0</td>\n",
       "      <td>0</td>\n",
       "    </tr>\n",
       "    <tr>\n",
       "      <th>4</th>\n",
       "      <td>5</td>\n",
       "      <td>Copycat (1995)</td>\n",
       "      <td>01-Jan-1995</td>\n",
       "      <td>NaN</td>\n",
       "      <td>http://us.imdb.com/M/title-exact?Copycat%20(1995)</td>\n",
       "      <td>0</td>\n",
       "      <td>0</td>\n",
       "      <td>0</td>\n",
       "      <td>0</td>\n",
       "      <td>0</td>\n",
       "      <td>...</td>\n",
       "      <td>0</td>\n",
       "      <td>0</td>\n",
       "      <td>0</td>\n",
       "      <td>0</td>\n",
       "      <td>0</td>\n",
       "      <td>0</td>\n",
       "      <td>0</td>\n",
       "      <td>1</td>\n",
       "      <td>0</td>\n",
       "      <td>0</td>\n",
       "    </tr>\n",
       "  </tbody>\n",
       "</table>\n",
       "<p>5 rows × 24 columns</p>\n",
       "</div>"
      ],
      "text/plain": [
       "   Movie ID        Movie Title Release Date  Video Release Date  \\\n",
       "0         1   Toy Story (1995)  01-Jan-1995                 NaN   \n",
       "1         2   GoldenEye (1995)  01-Jan-1995                 NaN   \n",
       "2         3  Four Rooms (1995)  01-Jan-1995                 NaN   \n",
       "3         4  Get Shorty (1995)  01-Jan-1995                 NaN   \n",
       "4         5     Copycat (1995)  01-Jan-1995                 NaN   \n",
       "\n",
       "                                            IMDB URL  Unknown  Action  \\\n",
       "0  http://us.imdb.com/M/title-exact?Toy%20Story%2...        0       0   \n",
       "1  http://us.imdb.com/M/title-exact?GoldenEye%20(...        0       1   \n",
       "2  http://us.imdb.com/M/title-exact?Four%20Rooms%...        0       0   \n",
       "3  http://us.imdb.com/M/title-exact?Get%20Shorty%...        0       1   \n",
       "4  http://us.imdb.com/M/title-exact?Copycat%20(1995)        0       0   \n",
       "\n",
       "   Adventure  Animation  Childrens  ...  Fantasy  Film-Noir  Horror  Musical  \\\n",
       "0          0          1          1  ...        0          0       0        0   \n",
       "1          1          0          0  ...        0          0       0        0   \n",
       "2          0          0          0  ...        0          0       0        0   \n",
       "3          0          0          0  ...        0          0       0        0   \n",
       "4          0          0          0  ...        0          0       0        0   \n",
       "\n",
       "   Mystery  Romance  Sci-Fi  Thriller  War  Western  \n",
       "0        0        0       0         0    0        0  \n",
       "1        0        0       0         1    0        0  \n",
       "2        0        0       0         1    0        0  \n",
       "3        0        0       0         0    0        0  \n",
       "4        0        0       0         1    0        0  \n",
       "\n",
       "[5 rows x 24 columns]"
      ]
     },
     "execution_count": 6,
     "metadata": {},
     "output_type": "execute_result"
    }
   ],
   "source": [
    "movie_df.head()"
   ]
  },
  {
   "cell_type": "code",
   "execution_count": 7,
   "metadata": {},
   "outputs": [],
   "source": [
    "user_count = len(user_df)\n",
    "movie_count = len(movie_df)\n",
    "movie_names = movie_df['Movie Title'].tolist()"
   ]
  },
  {
   "cell_type": "code",
   "execution_count": 8,
   "metadata": {},
   "outputs": [
    {
     "name": "stdout",
     "output_type": "stream",
     "text": [
      "User Count ----------- 943\n",
      "Movie Count ----------- 1682\n"
     ]
    }
   ],
   "source": [
    "print(\"User Count -----------\",user_count)\n",
    "print(\"Movie Count -----------\",movie_count)"
   ]
  },
  {
   "cell_type": "code",
   "execution_count": 9,
   "metadata": {},
   "outputs": [],
   "source": [
    "# User Watch List ---> For every user indexed in the list\n",
    "# is a dictionary from Movie ID -> Rating for the user at that index\n",
    "\n",
    "def initList():\n",
    "    wList = []\n",
    "    for runner in range(user_count):\n",
    "        wList.append({})\n",
    "    return wList\n",
    "\n",
    "def make_avgMovieRating():\n",
    "    avgMovieRating = np.zeros((movie_count))\n",
    "    for i in range(movie_count):\n",
    "        tempDF = rating_df.loc[rating_df['Movie ID'] == i+1]\n",
    "        avgMovieRating[i] += tempDF.Rating.mean()\n",
    "    return avgMovieRating\n",
    "    \n",
    "def make_userWatchList():\n",
    "    watchList = initList()\n",
    "    for line in rating_df.itertuples():\n",
    "        current_user = line[1]-1\n",
    "        movie_watched = line[2]-1\n",
    "        rating = line[3]\n",
    "        watchList[current_user][movie_watched] = rating\n",
    "    return watchList"
   ]
  },
  {
   "cell_type": "code",
   "execution_count": 10,
   "metadata": {},
   "outputs": [],
   "source": [
    "# userWatchList[0]  --> A dictionary of movies watched by User ID '1'\n",
    "# The Dictionary maps from Movie ID to the rating user has given.\n",
    "\n",
    "userWatchList = make_userWatchList()\n",
    "avgMovieRating = make_avgMovieRating()"
   ]
  },
  {
   "cell_type": "code",
   "execution_count": 11,
   "metadata": {},
   "outputs": [],
   "source": [
    "def get_ageValue(age_value):\n",
    "    for value in range(10,90,10):\n",
    "        if(age_value<=value):\n",
    "            age_value=value%10\n",
    "            return age_value\n",
    "\n",
    "def make_userAttributes():\n",
    "    userAttrs = np.zeros((user_count,30))\n",
    "    for line in user_df.itertuples():\n",
    "        age_value = get_ageValue(line[2])\n",
    "        gender_value = line[3]\n",
    "        occupation_value = line[4]\n",
    "        userAttrs[line[0]][occupation_value] = 1\n",
    "        userAttrs[line[0]][20+age_value] = 1\n",
    "        userAttrs[line[0]][-1] = gender_value\n",
    "    return userAttrs\n",
    "\n",
    "def make_movieAttributes():\n",
    "    temp_df = movie_df.drop([\"Movie ID\",\"Movie Title\",\"Release Date\",\"Video Release Date\",\"IMDB URL\",\"Unknown\"], axis =1)\n",
    "    return temp_df.to_numpy()"
   ]
  },
  {
   "cell_type": "code",
   "execution_count": 12,
   "metadata": {},
   "outputs": [],
   "source": [
    "userAttributes = make_userAttributes()\n",
    "movieAttributes = make_movieAttributes()"
   ]
  },
  {
   "cell_type": "code",
   "execution_count": 13,
   "metadata": {},
   "outputs": [],
   "source": [
    "def cosineDistance(arr1,arr2):\n",
    "    numerator = np.dot(arr1,arr2)\n",
    "    denominator = math.sqrt(sum(arr1**2))+math.sqrt(sum(arr2**2))\n",
    "    return numerator/denominator"
   ]
  },
  {
   "cell_type": "code",
   "execution_count": 14,
   "metadata": {},
   "outputs": [],
   "source": [
    "def make_userMovieGenre(userID):\n",
    "    userMovieGenre = np.zeros((18,))\n",
    "    mainUserMovies = list(userWatchList[userID-1].keys())\n",
    "    movieCounter = 0\n",
    "    for movieIndex in mainUserMovies:\n",
    "        movieCounter+=1\n",
    "        userMovieGenre += movieAttributes[movieIndex]\n",
    "    return userMovieGenre/movieCounter\n",
    "\n",
    "def getMovieSimilarities(userID):\n",
    "    similarities = {}\n",
    "    userMovieGenre = make_userMovieGenre(userID)\n",
    "    for i in range(movie_count):\n",
    "        similarities[i] = cosineDistance(userMovieGenre,movieAttributes[i])\n",
    "    return similarities\n",
    "\n",
    "def getUserSimilarities(userID):\n",
    "    similarities = {}\n",
    "    mainUser = userAttributes[userID-1]\n",
    "    for i in range(user_count):\n",
    "        similarities[i] = cosineDistance(mainUser,userAttributes[i])\n",
    "    similarities[userID-1] = 0\n",
    "    return similarities"
   ]
  },
  {
   "cell_type": "code",
   "execution_count": 15,
   "metadata": {},
   "outputs": [],
   "source": [
    "def make_userValues(similarities):\n",
    "    ratingXsimilarity = np.zeros((movie_count,))\n",
    "    similarityCounterArray = np.zeros((movie_count,))\n",
    "    for currentUser in range(user_count):\n",
    "        currentSimilarity = similarities[currentUser]\n",
    "        moviesWatched = userWatchList[currentUser]\n",
    "        for movieID,rating in moviesWatched.items():\n",
    "            ratingXsimilarity[movieID] += rating*currentSimilarity\n",
    "            similarityCounterArray[movieID] += 1\n",
    "    return ratingXsimilarity, similarityCounterArray\n",
    "\n",
    "def make_moviePredictions(similarities):\n",
    "    for i in range(movie_count):\n",
    "        similarities[i] = similarities[i]*avgMovieRating[i]\n",
    "    predictions = sorted(similarities, key=similarities.get, reverse=True)\n",
    "    return predictions"
   ]
  },
  {
   "cell_type": "code",
   "execution_count": 16,
   "metadata": {},
   "outputs": [],
   "source": [
    "def make_userPredictions(similarities):\n",
    "    predictions = {}\n",
    "    ratingXsimilarity, similarityCounterArray = make_userValues(similarities)\n",
    "    for ID in range(movie_count):\n",
    "        predictions[ID] = ratingXsimilarity[ID]/similarityCounterArray[ID]\n",
    "    predictions = sorted(predictions, key=predictions.get, reverse=True)\n",
    "    return predictions\n",
    "\n",
    "def predict1(userID):\n",
    "    similarities = getUserSimilarities(userID)\n",
    "    predictions = make_userPredictions(similarities)\n",
    "    return predictions\n",
    "\n",
    "\n",
    "def predict2(userID):\n",
    "    similarities = getMovieSimilarities(userID)\n",
    "    predictions = make_moviePredictions(similarities)\n",
    "    return predictions"
   ]
  },
  {
   "cell_type": "markdown",
   "metadata": {},
   "source": [
    "### type = \"user\"\n",
    "###### Using user data such as: [Age, Sex, Occupation] and then using that to find similarity and recommending movies based on the most similar user's"
   ]
  },
  {
   "cell_type": "markdown",
   "metadata": {},
   "source": [
    "### type = \"item\"\n",
    "###### Using user data such as: [Averaged movie genre's of a user] and then using that to find similar movies"
   ]
  },
  {
   "cell_type": "code",
   "execution_count": 17,
   "metadata": {},
   "outputs": [],
   "source": [
    "def predict(userID, top=5, filter_type=\"user\"):\n",
    "    mainUserMovies = list(userWatchList[userID-1].keys())\n",
    "    if filter_type==\"user\":\n",
    "        predictions = predict1(userID)\n",
    "    elif filter_type == \"item\":\n",
    "        predictions = predict2(userID)\n",
    "    final = []\n",
    "    for prediction in predictions:\n",
    "        if prediction not in mainUserMovies:\n",
    "            final.append(movie_names[prediction])\n",
    "    return final[:top]"
   ]
  },
  {
   "cell_type": "code",
   "execution_count": 18,
   "metadata": {},
   "outputs": [
    {
     "data": {
      "text/plain": [
       "['He Walked by Night (1948)',\n",
       " 'Saint of Fort Washington, The (1993)',\n",
       " 'Great Day in Harlem, A (1994)',\n",
       " 'They Made Me a Criminal (1939)',\n",
       " 'Marlene Dietrich: Shadow and Light (1996) ']"
      ]
     },
     "execution_count": 18,
     "metadata": {},
     "output_type": "execute_result"
    }
   ],
   "source": [
    "predict(1, filter_type=\"user\")"
   ]
  },
  {
   "cell_type": "code",
   "execution_count": 19,
   "metadata": {},
   "outputs": [
    {
     "data": {
      "text/plain": [
       "['Wings of Desire (1987)',\n",
       " 'Titanic (1997)',\n",
       " 'As Good As It Gets (1997)',\n",
       " 'Brassed Off (1996)',\n",
       " 'Stand by Me (1986)']"
      ]
     },
     "execution_count": 19,
     "metadata": {},
     "output_type": "execute_result"
    }
   ],
   "source": [
    "predict(1, filter_type=\"item\")"
   ]
  }
 ],
 "metadata": {
  "kernelspec": {
   "display_name": "Python 3",
   "language": "python",
   "name": "python3"
  },
  "language_info": {
   "codemirror_mode": {
    "name": "ipython",
    "version": 3
   },
   "file_extension": ".py",
   "mimetype": "text/x-python",
   "name": "python",
   "nbconvert_exporter": "python",
   "pygments_lexer": "ipython3",
   "version": "3.6.8"
  }
 },
 "nbformat": 4,
 "nbformat_minor": 2
}
