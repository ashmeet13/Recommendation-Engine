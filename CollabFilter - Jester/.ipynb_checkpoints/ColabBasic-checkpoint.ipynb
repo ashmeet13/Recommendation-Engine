{
 "cells": [
  {
   "cell_type": "markdown",
   "metadata": {},
   "source": [
    "# Imports and making data"
   ]
  },
  {
   "cell_type": "code",
   "execution_count": 1,
   "metadata": {},
   "outputs": [],
   "source": [
    "import pandas as pd\n",
    "import numpy as np\n",
    "import operator\n",
    "import math"
   ]
  },
  {
   "cell_type": "markdown",
   "metadata": {},
   "source": [
    "### JesterSmall.csv is made using the orignal Jester Dataset. Formatted it into a [UserID, JokeID, Rating] format for easy processing"
   ]
  },
  {
   "cell_type": "code",
   "execution_count": 2,
   "metadata": {},
   "outputs": [],
   "source": [
    "mainFrame = pd.read_csv('JesterSmall.csv', sep='\\t')"
   ]
  },
  {
   "cell_type": "code",
   "execution_count": 3,
   "metadata": {},
   "outputs": [],
   "source": [
    "mainFrame.columns = [\"userID\",\"jokeID\",\"rating\"]"
   ]
  },
  {
   "cell_type": "code",
   "execution_count": 4,
   "metadata": {},
   "outputs": [
    {
     "data": {
      "text/html": [
       "<div>\n",
       "<style scoped>\n",
       "    .dataframe tbody tr th:only-of-type {\n",
       "        vertical-align: middle;\n",
       "    }\n",
       "\n",
       "    .dataframe tbody tr th {\n",
       "        vertical-align: top;\n",
       "    }\n",
       "\n",
       "    .dataframe thead th {\n",
       "        text-align: right;\n",
       "    }\n",
       "</style>\n",
       "<table border=\"1\" class=\"dataframe\">\n",
       "  <thead>\n",
       "    <tr style=\"text-align: right;\">\n",
       "      <th></th>\n",
       "      <th>userID</th>\n",
       "      <th>jokeID</th>\n",
       "      <th>rating</th>\n",
       "    </tr>\n",
       "  </thead>\n",
       "  <tbody>\n",
       "    <tr>\n",
       "      <th>0</th>\n",
       "      <td>0</td>\n",
       "      <td>0</td>\n",
       "      <td>-7.82</td>\n",
       "    </tr>\n",
       "    <tr>\n",
       "      <th>1</th>\n",
       "      <td>0</td>\n",
       "      <td>1</td>\n",
       "      <td>8.79</td>\n",
       "    </tr>\n",
       "    <tr>\n",
       "      <th>2</th>\n",
       "      <td>0</td>\n",
       "      <td>2</td>\n",
       "      <td>-9.66</td>\n",
       "    </tr>\n",
       "    <tr>\n",
       "      <th>3</th>\n",
       "      <td>0</td>\n",
       "      <td>3</td>\n",
       "      <td>-8.16</td>\n",
       "    </tr>\n",
       "    <tr>\n",
       "      <th>4</th>\n",
       "      <td>0</td>\n",
       "      <td>4</td>\n",
       "      <td>-7.52</td>\n",
       "    </tr>\n",
       "  </tbody>\n",
       "</table>\n",
       "</div>"
      ],
      "text/plain": [
       "   userID  jokeID  rating\n",
       "0       0       0   -7.82\n",
       "1       0       1    8.79\n",
       "2       0       2   -9.66\n",
       "3       0       3   -8.16\n",
       "4       0       4   -7.52"
      ]
     },
     "execution_count": 4,
     "metadata": {},
     "output_type": "execute_result"
    }
   ],
   "source": [
    "'''\n",
    "The jokes have been rated on a scale from -10 to 10\n",
    "'''\n",
    "\n",
    "mainFrame.head()"
   ]
  },
  {
   "cell_type": "code",
   "execution_count": 5,
   "metadata": {},
   "outputs": [
    {
     "name": "stdout",
     "output_type": "stream",
     "text": [
      "<class 'pandas.core.frame.DataFrame'>\n",
      "RangeIndex: 141547 entries, 0 to 141546\n",
      "Data columns (total 3 columns):\n",
      "userID    141547 non-null int64\n",
      "jokeID    141547 non-null int64\n",
      "rating    141547 non-null float64\n",
      "dtypes: float64(1), int64(2)\n",
      "memory usage: 3.2 MB\n"
     ]
    }
   ],
   "source": [
    "mainFrame.info()"
   ]
  },
  {
   "cell_type": "code",
   "execution_count": 6,
   "metadata": {},
   "outputs": [],
   "source": [
    "userCount = len(mainFrame.userID.unique())\n",
    "jokeCount = len(mainFrame.jokeID.unique())"
   ]
  },
  {
   "cell_type": "code",
   "execution_count": 7,
   "metadata": {},
   "outputs": [
    {
     "name": "stdout",
     "output_type": "stream",
     "text": [
      "2000 100\n"
     ]
    }
   ],
   "source": [
    "'''\n",
    "A small size Jester dataset onsisiting reviews from 2000 user's on 100 jokes.\n",
    "'''\n",
    "\n",
    "print(userCount,jokeCount)"
   ]
  },
  {
   "cell_type": "code",
   "execution_count": 8,
   "metadata": {},
   "outputs": [],
   "source": [
    "def cosineDistance(arr1,arr2):\n",
    "    numerator = np.dot(arr1,arr2)\n",
    "    denominator = math.sqrt(sum(arr1**2))+math.sqrt(sum(arr2**2))\n",
    "    return numerator/denominator"
   ]
  },
  {
   "cell_type": "markdown",
   "metadata": {},
   "source": [
    "# User - Item Filtering"
   ]
  },
  {
   "cell_type": "markdown",
   "metadata": {},
   "source": [
    "### Using cosine distance to find similarity between a certain -UserID- and other users on the basis of how their item ratings"
   ]
  },
  {
   "cell_type": "markdown",
   "metadata": {},
   "source": [
    "### Then using similarity value trying to predict a value of how would the -UserID- like a certain Joke."
   ]
  },
  {
   "cell_type": "code",
   "execution_count": 9,
   "metadata": {},
   "outputs": [],
   "source": [
    "# ... Helper Function ... #\n",
    "\n",
    "def initList(uC,jC):\n",
    "    arr = []\n",
    "    for i in range(uC):\n",
    "        arr.append([])\n",
    "    ratings = np.zeros((uC,jC))\n",
    "    return arr,ratings"
   ]
  },
  {
   "cell_type": "code",
   "execution_count": 10,
   "metadata": {},
   "outputs": [],
   "source": [
    "'''\n",
    "userJokes -> userJokes[i] will store the list joke ID's rated by the user with ID = i\n",
    "userRatings -> userRatings[i] will be a numpy array having values of the ratings given by user with ID = i\n",
    "'''\n",
    "\n",
    "userJokes, userRatings = initList(userCount,jokeCount)\n",
    "for row in mainFrame.itertuples():\n",
    "    userJokes[row[1]].append(row[2])\n",
    "    userRatings[row[1]][row[2]] = row[3]"
   ]
  },
  {
   "cell_type": "code",
   "execution_count": 11,
   "metadata": {},
   "outputs": [],
   "source": [
    "'''\n",
    "avgRatings -> avgRatings[i] will store the average rating of a user.\n",
    "'''\n",
    "avgRatings = np.zeros(userCount)\n",
    "for i in range(userCount):\n",
    "    avgRatings[i] = np.average(userRatings[i])"
   ]
  },
  {
   "cell_type": "code",
   "execution_count": 12,
   "metadata": {},
   "outputs": [],
   "source": [
    "'''\n",
    "getTargetRatings() -> This function takes the target user ID. Splits its rated jokes into two sets:\n",
    "                    (Split = 10%)\n",
    "                        Train - For finding similarities.\n",
    "                        Test - To Test the method\n",
    "                    It will return a numpy array of ratings of the ID's in \n",
    "                    the train set along with train and test list's\n",
    "\n",
    "--------\n",
    "\n",
    "getOtherRatings() -> This function will reduce down ratings of all the other users and retrive the ratings of only\n",
    "                    the jokes that need to be compared with to find similarity.\n",
    "'''\n",
    "def getTargetRatings(targetID):\n",
    "    targetUserJokes = userJokes[targetID]\n",
    "    seperator = int(len(targetUserJokes)*0.1)\n",
    "    testingJokes = targetUserJokes[:seperator]\n",
    "    trainingJokes = targetUserJokes[seperator:]\n",
    "    targetRatings = np.zeros(len(trainingJokes))\n",
    "    for ID in range(len(trainingJokes)):\n",
    "        targetRatings[ID] = userRatings[targetID][trainingJokes[ID]]\n",
    "    return targetRatings,trainingJokes,testingJokes\n",
    "\n",
    "def getOtherRatings(targetUserJokes,ratings):\n",
    "    other = np.zeros(len(targetUserJokes))\n",
    "    for ID in range(len(targetUserJokes)):\n",
    "        other[ID] = ratings[targetUserJokes[ID]]\n",
    "    return other"
   ]
  },
  {
   "cell_type": "code",
   "execution_count": 13,
   "metadata": {},
   "outputs": [],
   "source": [
    "'''\n",
    "findSimilarities() -> This function will loop over all the user's and find user's who have rated the same jokes\n",
    "                        with ID's in the train list and find a Cosine Similarity Value between those two.\n",
    "                    Returns a dictionary of UserID:Similarity type.\n",
    "'''\n",
    "\n",
    "def findSimilarities(targetID,target,trainingJokes):\n",
    "    targetSet = set(trainingJokes)\n",
    "    targetCount = len(targetSet)\n",
    "    similarities = {}\n",
    "    for i in range(userCount):\n",
    "        if (i==targetID):\n",
    "            continue\n",
    "        else:\n",
    "            otherSet = set(userJokes[i])\n",
    "            count = len(otherSet.intersection(targetSet))\n",
    "            if(count==targetCount):\n",
    "                other = getOtherRatings(trainingJokes,userRatings[i])\n",
    "                similarities[i] = cosineDistance(target,other)\n",
    "    return similarities"
   ]
  },
  {
   "cell_type": "code",
   "execution_count": 14,
   "metadata": {},
   "outputs": [],
   "source": [
    "'''\n",
    "makeThePrediction() -> This function is used to test the method and calulated an expected rating\n",
    "                        on the basis of most similar user's and the rating that those certain \n",
    "                        user's gave to a joke.\n",
    "'''\n",
    "\n",
    "def makeThePredcition(similar,ID, targetID):\n",
    "    numerator = 0\n",
    "    totalSim = 0\n",
    "    for user in similar:\n",
    "        normalizedRating = userRatings[user[0]][ID]\n",
    "        numerator = numerator + (user[1]*normalizedRating)\n",
    "        totalSim = totalSim + user[1]\n",
    "    pred = numerator/totalSim\n",
    "    return pred"
   ]
  },
  {
   "cell_type": "code",
   "execution_count": 15,
   "metadata": {},
   "outputs": [],
   "source": [
    "'''\n",
    "predict() -> It is used to make a prediction and simultaneouly check on how it is performing.\n",
    "'''\n",
    "\n",
    "def predict(targetID,bestof):\n",
    "    targetRatings,trainingJokes,testingJokes = getTargetRatings(targetID)\n",
    "    similarities = findSimilarities(targetID,targetRatings,trainingJokes)\n",
    "    otherUsers = sorted(similarities.items(), key=operator.itemgetter(1), reverse=True)\n",
    "    loss = 0\n",
    "    for testID in testingJokes:\n",
    "        mostSimilar = []\n",
    "        for otherUser in otherUsers:\n",
    "            if (testID in userJokes[otherUser[0]]):\n",
    "                mostSimilar.append(otherUser)\n",
    "            if len(mostSimilar)==bestof:\n",
    "                break\n",
    "        pred = makeThePredcition(mostSimilar,testID, targetID)\n",
    "        actual = userRatings[targetID][testID]\n",
    "        error = (pred-actual)**2\n",
    "        loss += error\n",
    "        print(\"Actual =\",actual,\"----- Predicted =\",round(pred,2),\"----- Error =\",error)\n",
    "    print()\n",
    "    mse = loss/len(testingJokes)\n",
    "    print(\"Total RMSE =\",mse**0.5, \"------- Total MSError\",mse)"
   ]
  },
  {
   "cell_type": "code",
   "execution_count": 16,
   "metadata": {},
   "outputs": [
    {
     "name": "stdout",
     "output_type": "stream",
     "text": [
      "Actual = -7.82 ----- Predicted = -0.0 ----- Error = 61.1456541578109\n",
      "Actual = 8.79 ----- Predicted = -3.09 ----- Error = 141.06754252188455\n",
      "Actual = -9.66 ----- Predicted = -4.98 ----- Error = 21.87619845216674\n",
      "Actual = -8.16 ----- Predicted = -8.09 ----- Error = 0.005533356692395098\n",
      "Actual = -7.52 ----- Predicted = -2.61 ----- Error = 24.153064508190106\n",
      "Actual = -8.5 ----- Predicted = 1.2 ----- Error = 94.14797114473382\n",
      "Actual = -9.85 ----- Predicted = -6.76 ----- Error = 9.542777370877875\n",
      "\n",
      "Total RMSE = 7.0906250128739545 ------- Total MSError 50.27696307319377\n"
     ]
    }
   ],
   "source": [
    "predict(0,5)"
   ]
  },
  {
   "cell_type": "code",
   "execution_count": 17,
   "metadata": {},
   "outputs": [
    {
     "name": "stdout",
     "output_type": "stream",
     "text": [
      "Actual = 9.22 ----- Predicted = 6.36 ----- Error = 8.18692430854605\n",
      "Actual = 9.27 ----- Predicted = 6.78 ----- Error = 6.2200354279425305\n",
      "Actual = 9.22 ----- Predicted = 7.99 ----- Error = 1.5015298026605937\n",
      "Actual = 8.3 ----- Predicted = 8.28 ----- Error = 0.0004999305040423537\n",
      "Actual = 7.43 ----- Predicted = 1.85 ----- Error = 31.150596041070365\n",
      "Actual = 0.44 ----- Predicted = 8.43 ----- Error = 63.86173333960625\n",
      "Actual = 3.5 ----- Predicted = -2.45 ----- Error = 35.39873020233972\n",
      "Actual = 8.16 ----- Predicted = -1.43 ----- Error = 92.02870407097939\n",
      "Actual = 5.97 ----- Predicted = 7.4 ----- Error = 2.056707105098695\n",
      "Actual = 8.98 ----- Predicted = 8.16 ----- Error = 0.6797024627818821\n",
      "\n",
      "Total RMSE = 4.910042389751126 ------- Total MSError 24.10851626915295\n"
     ]
    }
   ],
   "source": [
    "predict(13,5)"
   ]
  },
  {
   "cell_type": "code",
   "execution_count": 18,
   "metadata": {},
   "outputs": [
    {
     "name": "stdout",
     "output_type": "stream",
     "text": [
      "Actual = 6.36 ----- Predicted = 6.05 ----- Error = 0.09866459873908044\n",
      "Actual = 9.27 ----- Predicted = 6.43 ----- Error = 8.087668747833982\n",
      "Actual = 7.04 ----- Predicted = 5.65 ----- Error = 1.9199258950720386\n",
      "Actual = 4.85 ----- Predicted = 1.83 ----- Error = 9.121255801351762\n",
      "Actual = 9.27 ----- Predicted = 8.78 ----- Error = 0.23764141926304844\n",
      "Actual = 5.24 ----- Predicted = -1.12 ----- Error = 40.487565424225316\n",
      "\n",
      "Total RMSE = 3.1610315269566995 ------- Total MSError 9.992120314414205\n"
     ]
    }
   ],
   "source": [
    "predict(164,5)"
   ]
  },
  {
   "cell_type": "code",
   "execution_count": 19,
   "metadata": {},
   "outputs": [
    {
     "name": "stdout",
     "output_type": "stream",
     "text": [
      "Actual = 2.09 ----- Predicted = -1.33 ----- Error = 11.667395096738563\n",
      "Actual = -6.17 ----- Predicted = -1.78 ----- Error = 19.26115295305719\n",
      "Actual = -5.73 ----- Predicted = -2.28 ----- Error = 11.86863567173033\n",
      "\n",
      "Total RMSE = 3.7769998553316575 ------- Total MSError 14.26572790717536\n"
     ]
    }
   ],
   "source": [
    "predict(832,5)"
   ]
  },
  {
   "cell_type": "code",
   "execution_count": 20,
   "metadata": {},
   "outputs": [
    {
     "name": "stdout",
     "output_type": "stream",
     "text": [
      "Actual = -8.06 ----- Predicted = -0.67 ----- Error = 54.65360517532493\n",
      "Actual = 0.97 ----- Predicted = 4.06 ----- Error = 9.562529994557906\n",
      "Actual = 1.84 ----- Predicted = -0.83 ----- Error = 7.1454580030115915\n",
      "Actual = 3.11 ----- Predicted = 3.54 ----- Error = 0.1830896909461598\n",
      "Actual = -0.49 ----- Predicted = 6.2 ----- Error = 44.73601857805843\n",
      "Actual = 1.31 ----- Predicted = -0.74 ----- Error = 4.197205935174834\n",
      "\n",
      "Total RMSE = 4.4810323843409465 ------- Total MSError 20.07965122951231\n"
     ]
    }
   ],
   "source": [
    "predict(1432,5)"
   ]
  },
  {
   "cell_type": "markdown",
   "metadata": {},
   "source": [
    "# Item - Item Filtering"
   ]
  },
  {
   "cell_type": "markdown",
   "metadata": {},
   "source": [
    "### Using cosine distance finding similar jokes on the basis of the ratings they have recieved which could be suggested to user's"
   ]
  },
  {
   "cell_type": "code",
   "execution_count": 21,
   "metadata": {},
   "outputs": [],
   "source": [
    "'''\n",
    "jokeRatings -> jokeRatings[i] will store the value of the ratings all the users gave to a joke with ID = i\n",
    "\n",
    "jokeAverage -> jokeAverage[i] = averageOf(jokeRatings[i])\n",
    "'''\n",
    "\n",
    "\n",
    "jokeRatings = np.zeros((jokeCount,userCount))\n",
    "jokeAverage = np.zeros((jokeCount))"
   ]
  },
  {
   "cell_type": "code",
   "execution_count": 22,
   "metadata": {},
   "outputs": [],
   "source": [
    "for row in mainFrame.itertuples():\n",
    "    jokeRatings[row[2]][row[1]] = row[3]\n",
    "\n",
    "for i in range(jokeCount):\n",
    "    jokeAverage[i] = np.average(jokeRatings[i])"
   ]
  },
  {
   "cell_type": "code",
   "execution_count": 23,
   "metadata": {},
   "outputs": [],
   "source": [
    "'''\n",
    "predictItem()-> Predicts an item based on the most similar rated jokes. And prints the most similar joke ID's\n",
    "'''\n",
    "\n",
    "def predictItem(jokeID, bestof):\n",
    "    targetRatings = jokeRatings[jokeID]\n",
    "    similarities = {}\n",
    "    for i in range(jokeCount):\n",
    "        if(i==jokeID):\n",
    "            continue\n",
    "        else:\n",
    "            similarities[i] = cosineDistance(targetRatings,jokeRatings[i])\n",
    "    similarJokes = sorted(similarities.items(), key=operator.itemgetter(1), reverse=True)\n",
    "    print(\"Following Joke ID's are similar to Joke:\",jokeID,\"--- Average Joke Score:\",jokeAverage[jokeID])\n",
    "    for i in range(bestof):\n",
    "        print(\"ID:\",similarJokes[i][0],\"----- Score:\",round(jokeAverage[similarJokes[i][0]],3))"
   ]
  },
  {
   "cell_type": "code",
   "execution_count": 24,
   "metadata": {},
   "outputs": [
    {
     "name": "stdout",
     "output_type": "stream",
     "text": [
      "Following Joke ID's are similar to Joke: 0 --- Average Joke Score: 0.8035549999999999\n",
      "ID: 1 ----- Score: 0.533\n",
      "ID: 9 ----- Score: 1.168\n",
      "ID: 2 ----- Score: 0.41\n",
      "ID: 37 ----- Score: 1.273\n",
      "ID: 55 ----- Score: 2.039\n"
     ]
    }
   ],
   "source": [
    "predictItem(0,5)"
   ]
  },
  {
   "cell_type": "code",
   "execution_count": 25,
   "metadata": {},
   "outputs": [
    {
     "name": "stdout",
     "output_type": "stream",
     "text": [
      "Following Joke ID's are similar to Joke: 13 --- Average Joke Score: 1.391625\n",
      "ID: 25 ----- Score: 1.57\n",
      "ID: 11 ----- Score: 1.448\n",
      "ID: 52 ----- Score: 3.101\n",
      "ID: 28 ----- Score: 3.151\n",
      "ID: 41 ----- Score: 1.904\n"
     ]
    }
   ],
   "source": [
    "predictItem(13,5)"
   ]
  },
  {
   "cell_type": "code",
   "execution_count": 26,
   "metadata": {},
   "outputs": [
    {
     "name": "stdout",
     "output_type": "stream",
     "text": [
      "Following Joke ID's are similar to Joke: 52 --- Average Joke Score: 3.10071\n",
      "ID: 49 ----- Score: 3.786\n",
      "ID: 35 ----- Score: 3.398\n",
      "ID: 31 ----- Score: 3.02\n",
      "ID: 34 ----- Score: 3.151\n",
      "ID: 68 ----- Score: 2.701\n"
     ]
    }
   ],
   "source": [
    "predictItem(52,5)"
   ]
  },
  {
   "cell_type": "code",
   "execution_count": 27,
   "metadata": {},
   "outputs": [
    {
     "name": "stdout",
     "output_type": "stream",
     "text": [
      "Following Joke ID's are similar to Joke: 82 --- Average Joke Score: 0.7829299999999999\n",
      "ID: 71 ----- Score: 0.915\n",
      "ID: 92 ----- Score: 0.979\n",
      "ID: 88 ----- Score: 1.428\n",
      "ID: 75 ----- Score: 0.788\n",
      "ID: 79 ----- Score: 0.391\n"
     ]
    }
   ],
   "source": [
    "predictItem(82,5)"
   ]
  },
  {
   "cell_type": "code",
   "execution_count": 28,
   "metadata": {},
   "outputs": [
    {
     "name": "stdout",
     "output_type": "stream",
     "text": [
      "Following Joke ID's are similar to Joke: 99 --- Average Joke Score: 0.54311\n",
      "ID: 51 ----- Score: 0.293\n",
      "ID: 50 ----- Score: -0.193\n",
      "ID: 97 ----- Score: 0.153\n",
      "ID: 84 ----- Score: 0.372\n",
      "ID: 79 ----- Score: 0.391\n"
     ]
    }
   ],
   "source": [
    "predictItem(99,5)"
   ]
  }
 ],
 "metadata": {
  "kernelspec": {
   "display_name": "Python 3",
   "language": "python",
   "name": "python3"
  },
  "language_info": {
   "codemirror_mode": {
    "name": "ipython",
    "version": 3
   },
   "file_extension": ".py",
   "mimetype": "text/x-python",
   "name": "python",
   "nbconvert_exporter": "python",
   "pygments_lexer": "ipython3",
   "version": "3.6.8"
  }
 },
 "nbformat": 4,
 "nbformat_minor": 2
}
